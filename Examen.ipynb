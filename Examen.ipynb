{
  "nbformat": 4,
  "nbformat_minor": 0,
  "metadata": {
    "colab": {
      "provenance": [],
      "cell_execution_strategy": "setup",
      "include_colab_link": true
    },
    "kernelspec": {
      "name": "python3",
      "display_name": "Python 3"
    },
    "language_info": {
      "name": "python"
    }
  },
  "cells": [
    {
      "cell_type": "markdown",
      "metadata": {
        "id": "view-in-github",
        "colab_type": "text"
      },
      "source": [
        "<a href=\"https://colab.research.google.com/github/SirBready/ExamenBosch/blob/main/Examen.ipynb\" target=\"_parent\"><img src=\"https://colab.research.google.com/assets/colab-badge.svg\" alt=\"Open In Colab\"/></a>"
      ]
    },
    {
      "cell_type": "markdown",
      "source": [
        "\n",
        "# Instrucciones para resolver el examen en Google Colab:\n",
        "\n",
        "1. Acceso al examen:\n",
        "   - Accede a Google Colab a través de tu navegador web utilizando el enlace proporcionado por el profesor.\n",
        "\n",
        "2. Crear una copia privada:\n",
        "   - Una vez en Google Colab, elige la opción \"Archivo\" en la barra de menú.\n",
        "   - Luego, selecciona \"Guardar una copia en Drive\" para crear una copia privada del examen en tu cuenta de Google Drive.\n",
        "\n",
        "3. Leer las instrucciones:\n",
        "   - Lee cuidadosamente las instrucciones y preguntas del examen. Asegúrate de entender lo que se te está pidiendo antes de comenzar a responder.\n",
        "\n",
        "4. Responder las preguntas:\n",
        "   - Utiliza las celdas de código y de texto proporcionadas para responder a las preguntas del examen.\n",
        "   - Si es necesario, crea nuevas celdas para organizar tu respuesta o escribir comentarios explicativos.\n",
        "\n",
        "5. Ejecución de código:\n",
        "   - Si hay preguntas que requieren escribir código, asegúrate de ejecutar las celdas de código para obtener los resultados deseados.\n",
        "   - Si obtienes resultados incorrectos, revisa tu código y corrige los errores antes de continuar.\n",
        "\n",
        "6. Guardar los cambios:\n",
        "   - Asegúrate de guardar regularmente tus cambios en la copia privada del examen en Google Drive para evitar perder el progreso.\n",
        "\n",
        "7. Tiempo límite:\n",
        "   - Respeta el tiempo límite establecido para completar el examen. Administra tu tiempo de manera efectiva para responder todas las preguntas.\n",
        "\n",
        "8. No acceder a recursos externos:\n",
        "   - Durante el examen, no está permitido acceder a recursos externos como libros, apuntes o internet. El examen debe resolverse de manera individual.\n",
        "\n",
        "9. Evitar copiar respuestas:\n",
        "   - Respeta la integridad académica y evita copiar respuestas de otros compañeros. El examen debe reflejar tu comprensión y conocimiento personal.\n",
        "\n",
        "\n",
        "Recuerda que estas son instrucciones generales para resolver un examen en Google Colab. Es importante que el profesor proporcione instrucciones específicas y detalladas para cada examen. Asegúrate de seguir las indicaciones del profesor y cumplir con las reglas establecidas para una experiencia de examen justa y equitativa. ¡Buena suerte en tu examen en Google Colab!"
      ],
      "metadata": {
        "id": "4_xwXoR2p6mb"
      }
    },
    {
      "cell_type": "code",
      "source": [
        "# @title Descargar datos\n",
        "import requests as req\n",
        "\n",
        "URL = 'https://gist.githubusercontent.com/javierIA/06da309a089278be218daf66e02875ab/raw/d0bfabd94c27ad954cba63683d04d460660387f8/salarios.csv'\n",
        "file = req.get(URL, allow_redirects=True)\n",
        "\n",
        "open('salarios.csv', 'wb').write(file.content)"
      ],
      "metadata": {
        "colab": {
          "base_uri": "https://localhost:8080/"
        },
        "id": "ewf7Gw4luA6D",
        "outputId": "c7355540-c4ac-477f-8171-855f9be323be"
      },
      "execution_count": 1,
      "outputs": [
        {
          "output_type": "execute_result",
          "data": {
            "text/plain": [
              "1103"
            ]
          },
          "metadata": {},
          "execution_count": 1
        }
      ]
    },
    {
      "cell_type": "markdown",
      "source": [
        "## Asegúrate de proporcionar la ruta correcta hacia el archivo CSV o que el archivo esté en la misma ubicación que este notebook.\n"
      ],
      "metadata": {
        "id": "aZA9_A5evX6R"
      }
    },
    {
      "cell_type": "code",
      "source": [
        "import pandas as pd\n",
        "\n",
        "# Cargar los datos en la variable df\n",
        "df = pd.read_csv('salarios.csv')\n",
        "# Verificar que los datos se hayan cargado correctamente\n",
        "print(df)"
      ],
      "metadata": {
        "colab": {
          "base_uri": "https://localhost:8080/"
        },
        "id": "Hx4K-SF9vg9l",
        "outputId": "5fceac78-c832-4970-9888-2e24fbedb15e"
      },
      "execution_count": 7,
      "outputs": [
        {
          "output_type": "stream",
          "name": "stdout",
          "text": [
            "    Periodo  Unnamed: 1     Total  1_salario_minimo  2_salario_minimo  \\\n",
            "0      2017           1  51859895           7442463          14262160   \n",
            "1      2017           2  52198611           7566408          14118747   \n",
            "2      2017           3  52438646           7355639          13682660   \n",
            "3      2017           4  52865845           7926332          14215650   \n",
            "4      2018           1  52876916           8645273          15253962   \n",
            "5      2018           2  53785257           8705172          15287116   \n",
            "6      2018           3  54027997           8547030          15112727   \n",
            "7      2018           4  54194608           8663936          15038091   \n",
            "8      2019           1  54152266          10642543          17141160   \n",
            "9      2019           2  54936719          10891594          17552729   \n",
            "10     2019           3  55201939          10948633          17531173   \n",
            "11     2019           4  55683450          11060229          17578323   \n",
            "12     2020           1  55352304          12533197          19781852   \n",
            "\n",
            "    3_salario_minimo  5_salario_minimo  mas de 5_salario_minimo  \\\n",
            "0           11218801           6601395                  2704520   \n",
            "1           10939869           6555065                  2776570   \n",
            "2           11081749           6695729                  2722520   \n",
            "3           10531765           6695812                  2429320   \n",
            "4            9754514           6707166                  2272438   \n",
            "5            9739678           6936174                  2419355   \n",
            "6            9852659           6908797                  2405725   \n",
            "7           10001777           6921736                  2456938   \n",
            "8            9818858           4522674                  1741491   \n",
            "9            9919901           4437659                  1831552   \n",
            "10          10038381           4629662                  1810804   \n",
            "11          10056100           4972246                  2010414   \n",
            "12           8613773           3715640                  1534613   \n",
            "\n",
            "    No recibe ingresos  No especificado  \n",
            "0              3133797          6496759  \n",
            "1              3337521          6904431  \n",
            "2              3437846          7462503  \n",
            "3              3421033          7645933  \n",
            "4              2965555          7278008  \n",
            "5              3254898          7442864  \n",
            "6              3480221          7720838  \n",
            "7              3344211          7767919  \n",
            "8              3123910          7161630  \n",
            "9              3219868          7083416  \n",
            "10             3485828          6757458  \n",
            "11             3358459          6647679  \n",
            "12             2908620          6264609  \n"
          ]
        }
      ]
    },
    {
      "cell_type": "code",
      "source": [
        "# Muestra las primeras 5 filas del DataFrame\n",
        "print(df.head())"
      ],
      "metadata": {
        "colab": {
          "base_uri": "https://localhost:8080/"
        },
        "id": "wfk4eJeGv5YX",
        "outputId": "8209a229-1a84-4f56-ceca-0c3baf1263f9"
      },
      "execution_count": 8,
      "outputs": [
        {
          "output_type": "stream",
          "name": "stdout",
          "text": [
            "   Periodo  Unnamed: 1     Total  1_salario_minimo  2_salario_minimo  \\\n",
            "0     2017           1  51859895           7442463          14262160   \n",
            "1     2017           2  52198611           7566408          14118747   \n",
            "2     2017           3  52438646           7355639          13682660   \n",
            "3     2017           4  52865845           7926332          14215650   \n",
            "4     2018           1  52876916           8645273          15253962   \n",
            "\n",
            "   3_salario_minimo  5_salario_minimo  mas de 5_salario_minimo  \\\n",
            "0          11218801           6601395                  2704520   \n",
            "1          10939869           6555065                  2776570   \n",
            "2          11081749           6695729                  2722520   \n",
            "3          10531765           6695812                  2429320   \n",
            "4           9754514           6707166                  2272438   \n",
            "\n",
            "   No recibe ingresos  No especificado  \n",
            "0             3133797          6496759  \n",
            "1             3337521          6904431  \n",
            "2             3437846          7462503  \n",
            "3             3421033          7645933  \n",
            "4             2965555          7278008  \n"
          ]
        }
      ]
    },
    {
      "cell_type": "code",
      "source": [
        "# @title Estadistica de daframe\n",
        "print(\"\\nEstadísticas básicas del DataFrame:\")\n",
        "\n",
        "estadisticas_basicas = df.describe()\n",
        "print(estadisticas_basicas)\n"
      ],
      "metadata": {
        "colab": {
          "base_uri": "https://localhost:8080/"
        },
        "id": "iNLofx0mweBR",
        "outputId": "6ab8d128-31a0-416a-bf88-7ce1aab00bf7"
      },
      "execution_count": 9,
      "outputs": [
        {
          "output_type": "stream",
          "name": "stdout",
          "text": [
            "\n",
            "Estadísticas básicas del DataFrame:\n",
            "           Periodo  Unnamed: 1         Total  1_salario_minimo  \\\n",
            "count    13.000000   13.000000  1.300000e+01      1.300000e+01   \n",
            "mean   2018.153846    2.384615  5.381342e+07      9.302188e+06   \n",
            "std       0.987096    1.192928  1.273143e+06      1.695160e+06   \n",
            "min    2017.000000    1.000000  5.185990e+07      7.355639e+06   \n",
            "25%    2017.000000    1.000000  5.286584e+07      7.926332e+06   \n",
            "50%    2018.000000    2.000000  5.402800e+07      8.663936e+06   \n",
            "75%    2019.000000    3.000000  5.493672e+07      1.089159e+07   \n",
            "max    2020.000000    4.000000  5.568345e+07      1.253320e+07   \n",
            "\n",
            "       2_salario_minimo  3_salario_minimo  5_salario_minimo  \\\n",
            "count      1.300000e+01      1.300000e+01      1.300000e+01   \n",
            "mean       1.588895e+07      1.012060e+07      5.869212e+06   \n",
            "std        1.838962e+06      6.920934e+05      1.198729e+06   \n",
            "min        1.368266e+07      8.613773e+06      3.715640e+06   \n",
            "25%        1.426216e+07      9.818858e+06      4.629662e+06   \n",
            "50%        1.525396e+07      1.000178e+07      6.601395e+06   \n",
            "75%        1.753117e+07      1.053176e+07      6.707166e+06   \n",
            "max        1.978185e+07      1.121880e+07      6.936174e+06   \n",
            "\n",
            "       mas de 5_salario_minimo  No recibe ingresos  No especificado  \n",
            "count             1.300000e+01        1.300000e+01     1.300000e+01  \n",
            "mean              2.239712e+06        3.267059e+06     7.125696e+06  \n",
            "std               4.112917e+05        1.882936e+05     4.854288e+05  \n",
            "min               1.534613e+06        2.908620e+06     6.264609e+06  \n",
            "25%               1.831552e+06        3.133797e+06     6.757458e+06  \n",
            "50%               2.405725e+06        3.337521e+06     7.161630e+06  \n",
            "75%               2.456938e+06        3.421033e+06     7.462503e+06  \n",
            "max               2.776570e+06        3.485828e+06     7.767919e+06  \n"
          ]
        }
      ]
    },
    {
      "cell_type": "code",
      "source": [
        "# @title Filtro y seleciona datos\n",
        "# @markdown Seleciona los datos de la columna periodo mayor a 2018\n",
        "DM2018 = df[df['Periodo'] > 2018]\n",
        "print(\"\\nFilas donde la Periodo es mayor a 2018:\")\n",
        "print(DM2018)\n"
      ],
      "metadata": {
        "colab": {
          "base_uri": "https://localhost:8080/"
        },
        "id": "Webd_Dmew3Ki",
        "outputId": "993a2152-0b8f-4752-fa6d-9a11a9c37648"
      },
      "execution_count": 10,
      "outputs": [
        {
          "output_type": "stream",
          "name": "stdout",
          "text": [
            "\n",
            "Filas donde la Periodo es mayor a 2018:\n",
            "    Periodo  Unnamed: 1     Total  1_salario_minimo  2_salario_minimo  \\\n",
            "8      2019           1  54152266          10642543          17141160   \n",
            "9      2019           2  54936719          10891594          17552729   \n",
            "10     2019           3  55201939          10948633          17531173   \n",
            "11     2019           4  55683450          11060229          17578323   \n",
            "12     2020           1  55352304          12533197          19781852   \n",
            "\n",
            "    3_salario_minimo  5_salario_minimo  mas de 5_salario_minimo  \\\n",
            "8            9818858           4522674                  1741491   \n",
            "9            9919901           4437659                  1831552   \n",
            "10          10038381           4629662                  1810804   \n",
            "11          10056100           4972246                  2010414   \n",
            "12           8613773           3715640                  1534613   \n",
            "\n",
            "    No recibe ingresos  No especificado  \n",
            "8              3123910          7161630  \n",
            "9              3219868          7083416  \n",
            "10             3485828          6757458  \n",
            "11             3358459          6647679  \n",
            "12             2908620          6264609  \n"
          ]
        }
      ]
    },
    {
      "cell_type": "code",
      "source": [
        "# @title Remplaza la columnas\n",
        "# @markdown Remplaza el nombre columnas a otras la segundo columna no tiene el nombre, este se refiere al timestre favor actualizar el nombre\n",
        "\n",
        "df.rename(columns={\"Unnamed: 1\": \"trimestre\"}, inplace = True)\n",
        "print(\"Columnas despues de la modificación:\")\n",
        "print(df.columns)\n"
      ],
      "metadata": {
        "colab": {
          "base_uri": "https://localhost:8080/"
        },
        "id": "5Noys1mVyVy2",
        "outputId": "80486d7f-5c06-47b6-8bd2-877fef4561d3"
      },
      "execution_count": 15,
      "outputs": [
        {
          "output_type": "stream",
          "name": "stdout",
          "text": [
            "Columnas despues de la modificación:\n",
            "Index(['Periodo', 'trimestre', 'Total', '1_salario_minimo', '2_salario_minimo',\n",
            "       '3_salario_minimo', '5_salario_minimo', 'mas de 5_salario_minimo',\n",
            "       'No recibe ingresos', 'No especificado'],\n",
            "      dtype='object')\n"
          ]
        }
      ]
    },
    {
      "cell_type": "markdown",
      "source": [],
      "metadata": {
        "id": "MMlb2Md_oam_"
      }
    },
    {
      "cell_type": "markdown",
      "source": [
        "![Screenshot from 2023-07-24 15-27-22.png](data:image/png;base64,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)"
      ],
      "metadata": {
        "id": "G98KF9AezTCI"
      }
    },
    {
      "cell_type": "code",
      "source": [
        "# Favor usar el nombre trismetre\n",
        "# Pista la columna se llama \"Unnamed: 1\"\n",
        "df.rename(columns={\"trimestre\": \"Trismestre\"}, inplace = True)\n",
        "print(\"Columnas despues de la modificación:\")\n",
        "print(df.columns)\n"
      ],
      "metadata": {
        "colab": {
          "base_uri": "https://localhost:8080/"
        },
        "id": "yL5u-hIu0E6u",
        "outputId": "b5491f30-89c9-4b77-cbb5-35f03fbde545"
      },
      "execution_count": 46,
      "outputs": [
        {
          "output_type": "stream",
          "name": "stdout",
          "text": [
            "Columnas despues de la modificación:\n",
            "Index(['Periodo', 'Trismestre', 'Total', '1_salario_minimo',\n",
            "       '2_salario_minimo', '3_salario_minimo', '5_salario_minimo',\n",
            "       'mas de 5_salario_minimo', 'No recibe ingresos', 'No especificado',\n",
            "       'Total_dolares', '1_salario_minimo_dolares', '2_salario_minimo_dolares',\n",
            "       '3_salario_minimo_dolares', '5_salario_minimo_dolares'],\n",
            "      dtype='object')\n"
          ]
        }
      ]
    },
    {
      "cell_type": "code",
      "source": [
        "# @title Calcular el total de ingresos para cada año y período\n",
        "\n",
        "sumatoria = df.groupby(['Periodo'])['Total'].sum()\n",
        "print(sumatoria)"
      ],
      "metadata": {
        "colab": {
          "base_uri": "https://localhost:8080/"
        },
        "id": "SlRWqZX60n00",
        "outputId": "e5e28c63-79a3-406c-d009-a132273d6d89"
      },
      "execution_count": 41,
      "outputs": [
        {
          "output_type": "stream",
          "name": "stdout",
          "text": [
            "Periodo\n",
            "2017    209362997\n",
            "2018    214884778\n",
            "2019    219974374\n",
            "2020     55352304\n",
            "Name: Total, dtype: int64\n"
          ]
        }
      ]
    },
    {
      "cell_type": "markdown",
      "source": [
        "**Alerta** . No tiene datos nulos"
      ],
      "metadata": {
        "id": "OO6LjWTc2iJ-"
      }
    },
    {
      "cell_type": "code",
      "source": [
        "valores_nulos = df.isnull().sum()\n",
        "\n",
        "print(valores_nulos)"
      ],
      "metadata": {
        "colab": {
          "base_uri": "https://localhost:8080/"
        },
        "id": "AiDGX-cK2btq",
        "outputId": "8e37e085-65b8-42f1-dee4-44936723ceaf"
      },
      "execution_count": 42,
      "outputs": [
        {
          "output_type": "stream",
          "name": "stdout",
          "text": [
            "Periodo                     0\n",
            "trimestre                   0\n",
            "Total                       0\n",
            "1_salario_minimo            0\n",
            "2_salario_minimo            0\n",
            "3_salario_minimo            0\n",
            "5_salario_minimo            0\n",
            "mas de 5_salario_minimo     0\n",
            "No recibe ingresos          0\n",
            "No especificado             0\n",
            "Total_dolares               0\n",
            "1_salario_minimo_dolares    0\n",
            "2_salario_minimo_dolares    0\n",
            "3_salario_minimo_dolares    0\n",
            "5_salario_minimo_dolares    0\n",
            "dtype: int64\n"
          ]
        }
      ]
    },
    {
      "cell_type": "code",
      "source": [
        "import matplotlib.pyplot as plt\n",
        "\n",
        "# Graficar los ingresos totales por período\n",
        "plt.figure(figsize=(10, 6))\n",
        "sumatoria.plot(kind = 'bar', color = 'blue')\n",
        "plt.xlabel('Período')\n",
        "plt.ylabel('Ingresos Totales')\n",
        "plt.title('Ingresos Totales por Período')\n",
        "plt.tight_layout()\n",
        "df.apply\n",
        "plt.show()\n"
      ],
      "metadata": {
        "colab": {
          "base_uri": "https://localhost:8080/",
          "height": 606
        },
        "id": "sBjitW0-2zwl",
        "outputId": "9877bea4-3113-41df-9b90-f42446075167"
      },
      "execution_count": 43,
      "outputs": [
        {
          "output_type": "display_data",
          "data": {
            "text/plain": [
              "<Figure size 1000x600 with 1 Axes>"
            ],
            "image/png": "[encoded data removed]"
          },
          "metadata": {}
        }
      ]
    },
    {
      "cell_type": "markdown",
      "source": [
        "# Convierte los salarios a dolares\n",
        "### Supongamos que el tipo de cambio es 1 dólar = 20 unidades de la moneda local\n"
      ],
      "metadata": {
        "id": "sYwx7jIY31Iu"
      }
    },
    {
      "cell_type": "code",
      "source": [
        "tipo_cambio=20\n",
        "def convertir_a_dolares(salario):\n",
        "    return salario / tipo_cambio\n",
        "\n",
        "#df[].apply()\n",
        "\n",
        "df['Total_dolares'] = convertir_a_dolares(df['Total'])\n",
        "df['1_salario_minimo_dolares'] = convertir_a_dolares(df['1_salario_minimo'])\n",
        "df['2_salario_minimo_dolares'] = convertir_a_dolares(df['2_salario_minimo'])\n",
        "df['3_salario_minimo_dolares'] = convertir_a_dolares(df['3_salario_minimo'])\n",
        "df['5_salario_minimo_dolares'] = convertir_a_dolares(df['5_salario_minimo'])\n",
        "\n",
        "df\n"
      ],
      "metadata": {
        "colab": {
          "base_uri": "https://localhost:8080/",
          "height": 556
        },
        "id": "cJm8ADnb3-4D",
        "outputId": "00478dab-da68-426d-83c0-9efc6b967cfe"
      },
      "execution_count": 45,
      "outputs": [
        {
          "output_type": "execute_result",
          "data": {
            "text/plain": [
              "    Periodo  trimestre     Total  1_salario_minimo  2_salario_minimo  \\\n",
              "0      2017          1  51859895           7442463          14262160   \n",
              "1      2017          2  52198611           7566408          14118747   \n",
              "2      2017          3  52438646           7355639          13682660   \n",
              "3      2017          4  52865845           7926332          14215650   \n",
              "4      2018          1  52876916           8645273          15253962   \n",
              "5      2018          2  53785257           8705172          15287116   \n",
              "6      2018          3  54027997           8547030          15112727   \n",
              "7      2018          4  54194608           8663936          15038091   \n",
              "8      2019          1  54152266          10642543          17141160   \n",
              "9      2019          2  54936719          10891594          17552729   \n",
              "10     2019          3  55201939          10948633          17531173   \n",
              "11     2019          4  55683450          11060229          17578323   \n",
              "12     2020          1  55352304          12533197          19781852   \n",
              "\n",
              "    3_salario_minimo  5_salario_minimo  mas de 5_salario_minimo  \\\n",
              "0           11218801           6601395                  2704520   \n",
              "1           10939869           6555065                  2776570   \n",
              "2           11081749           6695729                  2722520   \n",
              "3           10531765           6695812                  2429320   \n",
              "4            9754514           6707166                  2272438   \n",
              "5            9739678           6936174                  2419355   \n",
              "6            9852659           6908797                  2405725   \n",
              "7           10001777           6921736                  2456938   \n",
              "8            9818858           4522674                  1741491   \n",
              "9            9919901           4437659                  1831552   \n",
              "10          10038381           4629662                  1810804   \n",
              "11          10056100           4972246                  2010414   \n",
              "12           8613773           3715640                  1534613   \n",
              "\n",
              "    No recibe ingresos  No especificado  Total_dolares  \\\n",
              "0              3133797          6496759     2592994.75   \n",
              "1              3337521          6904431     2609930.55   \n",
              "2              3437846          7462503     2621932.30   \n",
              "3              3421033          7645933     2643292.25   \n",
              "4              2965555          7278008     2643845.80   \n",
              "5              3254898          7442864     2689262.85   \n",
              "6              3480221          7720838     2701399.85   \n",
              "7              3344211          7767919     2709730.40   \n",
              "8              3123910          7161630     2707613.30   \n",
              "9              3219868          7083416     2746835.95   \n",
              "10             3485828          6757458     2760096.95   \n",
              "11             3358459          6647679     2784172.50   \n",
              "12             2908620          6264609     2767615.20   \n",
              "\n",
              "    1_salario_minimo_dolares  2_salario_minimo_dolares  \\\n",
              "0                  372123.15                 713108.00   \n",
              "1                  378320.40                 705937.35   \n",
              "2                  367781.95                 684133.00   \n",
              "3                  396316.60                 710782.50   \n",
              "4                  432263.65                 762698.10   \n",
              "5                  435258.60                 764355.80   \n",
              "6                  427351.50                 755636.35   \n",
              "7                  433196.80                 751904.55   \n",
              "8                  532127.15                 857058.00   \n",
              "9                  544579.70                 877636.45   \n",
              "10                 547431.65                 876558.65   \n",
              "11                 553011.45                 878916.15   \n",
              "12                 626659.85                 989092.60   \n",
              "\n",
              "    3_salario_minimo_dolares  5_salario_minimo_dolares  \n",
              "0                  560940.05                 330069.75  \n",
              "1                  546993.45                 327753.25  \n",
              "2                  554087.45                 334786.45  \n",
              "3                  526588.25                 334790.60  \n",
              "4                  487725.70                 335358.30  \n",
              "5                  486983.90                 346808.70  \n",
              "6                  492632.95                 345439.85  \n",
              "7                  500088.85                 346086.80  \n",
              "8                  490942.90                 226133.70  \n",
              "9                  495995.05                 221882.95  \n",
              "10                 501919.05                 231483.10  \n",
              "11                 502805.00                 248612.30  \n",
              "12                 430688.65                 185782.00  "
            ],
            "text/html": [
              "\n",
              "\n",
              "  <div id=\"df-18f86aba-4adb-449a-81e5-6cc64f54db76\">\n",
              "    <div class=\"colab-df-container\">\n",
              "      <div>\n",
              "<style scoped>\n",
              "    .dataframe tbody tr th:only-of-type {\n",
              "        vertical-align: middle;\n",
              "    }\n",
              "\n",
              "    .dataframe tbody tr th {\n",
              "        vertical-align: top;\n",
              "    }\n",
              "\n",
              "    .dataframe thead th {\n",
              "        text-align: right;\n",
              "    }\n",
              "</style>\n",
              "<table border=\"1\" class=\"dataframe\">\n",
              "  <thead>\n",
              "    <tr style=\"text-align: right;\">\n",
              "      <th></th>\n",
              "      <th>Periodo</th>\n",
              "      <th>trimestre</th>\n",
              "      <th>Total</th>\n",
              "      <th>1_salario_minimo</th>\n",
              "      <th>2_salario_minimo</th>\n",
              "      <th>3_salario_minimo</th>\n",
              "      <th>5_salario_minimo</th>\n",
              "      <th>mas de 5_salario_minimo</th>\n",
              "      <th>No recibe ingresos</th>\n",
              "      <th>No especificado</th>\n",
              "      <th>Total_dolares</th>\n",
              "      <th>1_salario_minimo_dolares</th>\n",
              "      <th>2_salario_minimo_dolares</th>\n",
              "      <th>3_salario_minimo_dolares</th>\n",
              "      <th>5_salario_minimo_dolares</th>\n",
              "    </tr>\n",
              "  </thead>\n",
              "  <tbody>\n",
              "    <tr>\n",
              "      <th>0</th>\n",
              "      <td>2017</td>\n",
              "      <td>1</td>\n",
              "      <td>51859895</td>\n",
              "      <td>7442463</td>\n",
              "      <td>14262160</td>\n",
              "      <td>11218801</td>\n",
              "      <td>6601395</td>\n",
              "      <td>2704520</td>\n",
              "      <td>3133797</td>\n",
              "      <td>6496759</td>\n",
              "      <td>2592994.75</td>\n",
              "      <td>372123.15</td>\n",
              "      <td>713108.00</td>\n",
              "      <td>560940.05</td>\n",
              "      <td>330069.75</td>\n",
              "    </tr>\n",
              "    <tr>\n",
              "      <th>1</th>\n",
              "      <td>2017</td>\n",
              "      <td>2</td>\n",
              "      <td>52198611</td>\n",
              "      <td>7566408</td>\n",
              "      <td>14118747</td>\n",
              "      <td>10939869</td>\n",
              "      <td>6555065</td>\n",
              "      <td>2776570</td>\n",
              "      <td>3337521</td>\n",
              "      <td>6904431</td>\n",
              "      <td>2609930.55</td>\n",
              "      <td>378320.40</td>\n",
              "      <td>705937.35</td>\n",
              "      <td>546993.45</td>\n",
              "      <td>327753.25</td>\n",
              "    </tr>\n",
              "    <tr>\n",
              "      <th>2</th>\n",
              "      <td>2017</td>\n",
              "      <td>3</td>\n",
              "      <td>52438646</td>\n",
              "      <td>7355639</td>\n",
              "      <td>13682660</td>\n",
              "      <td>11081749</td>\n",
              "      <td>6695729</td>\n",
              "      <td>2722520</td>\n",
              "      <td>3437846</td>\n",
              "      <td>7462503</td>\n",
              "      <td>2621932.30</td>\n",
              "      <td>367781.95</td>\n",
              "      <td>684133.00</td>\n",
              "      <td>554087.45</td>\n",
              "      <td>334786.45</td>\n",
              "    </tr>\n",
              "    <tr>\n",
              "      <th>3</th>\n",
              "      <td>2017</td>\n",
              "      <td>4</td>\n",
              "      <td>52865845</td>\n",
              "      <td>7926332</td>\n",
              "      <td>14215650</td>\n",
              "      <td>10531765</td>\n",
              "      <td>6695812</td>\n",
              "      <td>2429320</td>\n",
              "      <td>3421033</td>\n",
              "      <td>7645933</td>\n",
              "      <td>2643292.25</td>\n",
              "      <td>396316.60</td>\n",
              "      <td>710782.50</td>\n",
              "      <td>526588.25</td>\n",
              "      <td>334790.60</td>\n",
              "    </tr>\n",
              "    <tr>\n",
              "      <th>4</th>\n",
              "      <td>2018</td>\n",
              "      <td>1</td>\n",
              "      <td>52876916</td>\n",
              "      <td>8645273</td>\n",
              "      <td>15253962</td>\n",
              "      <td>9754514</td>\n",
              "      <td>6707166</td>\n",
              "      <td>2272438</td>\n",
              "      <td>2965555</td>\n",
              "      <td>7278008</td>\n",
              "      <td>2643845.80</td>\n",
              "      <td>432263.65</td>\n",
              "      <td>762698.10</td>\n",
              "      <td>487725.70</td>\n",
              "      <td>335358.30</td>\n",
              "    </tr>\n",
              "    <tr>\n",
              "      <th>5</th>\n",
              "      <td>2018</td>\n",
              "      <td>2</td>\n",
              "      <td>53785257</td>\n",
              "      <td>8705172</td>\n",
              "      <td>15287116</td>\n",
              "      <td>9739678</td>\n",
              "      <td>6936174</td>\n",
              "      <td>2419355</td>\n",
              "      <td>3254898</td>\n",
              "      <td>7442864</td>\n",
              "      <td>2689262.85</td>\n",
              "      <td>435258.60</td>\n",
              "      <td>764355.80</td>\n",
              "      <td>486983.90</td>\n",
              "      <td>346808.70</td>\n",
              "    </tr>\n",
              "    <tr>\n",
              "      <th>6</th>\n",
              "      <td>2018</td>\n",
              "      <td>3</td>\n",
              "      <td>54027997</td>\n",
              "      <td>8547030</td>\n",
              "      <td>15112727</td>\n",
              "      <td>9852659</td>\n",
              "      <td>6908797</td>\n",
              "      <td>2405725</td>\n",
              "      <td>3480221</td>\n",
              "      <td>7720838</td>\n",
              "      <td>2701399.85</td>\n",
              "      <td>427351.50</td>\n",
              "      <td>755636.35</td>\n",
              "      <td>492632.95</td>\n",
              "      <td>345439.85</td>\n",
              "    </tr>\n",
              "    <tr>\n",
              "      <th>7</th>\n",
              "      <td>2018</td>\n",
              "      <td>4</td>\n",
              "      <td>54194608</td>\n",
              "      <td>8663936</td>\n",
              "      <td>15038091</td>\n",
              "      <td>10001777</td>\n",
              "      <td>6921736</td>\n",
              "      <td>2456938</td>\n",
              "      <td>3344211</td>\n",
              "      <td>7767919</td>\n",
              "      <td>2709730.40</td>\n",
              "      <td>433196.80</td>\n",
              "      <td>751904.55</td>\n",
              "      <td>500088.85</td>\n",
              "      <td>346086.80</td>\n",
              "    </tr>\n",
              "    <tr>\n",
              "      <th>8</th>\n",
              "      <td>2019</td>\n",
              "      <td>1</td>\n",
              "      <td>54152266</td>\n",
              "      <td>10642543</td>\n",
              "      <td>17141160</td>\n",
              "      <td>9818858</td>\n",
              "      <td>4522674</td>\n",
              "      <td>1741491</td>\n",
              "      <td>3123910</td>\n",
              "      <td>7161630</td>\n",
              "      <td>2707613.30</td>\n",
              "      <td>532127.15</td>\n",
              "      <td>857058.00</td>\n",
              "      <td>490942.90</td>\n",
              "      <td>226133.70</td>\n",
              "    </tr>\n",
              "    <tr>\n",
              "      <th>9</th>\n",
              "      <td>2019</td>\n",
              "      <td>2</td>\n",
              "      <td>54936719</td>\n",
              "      <td>10891594</td>\n",
              "      <td>17552729</td>\n",
              "      <td>9919901</td>\n",
              "      <td>4437659</td>\n",
              "      <td>1831552</td>\n",
              "      <td>3219868</td>\n",
              "      <td>7083416</td>\n",
              "      <td>2746835.95</td>\n",
              "      <td>544579.70</td>\n",
              "      <td>877636.45</td>\n",
              "      <td>495995.05</td>\n",
              "      <td>221882.95</td>\n",
              "    </tr>\n",
              "    <tr>\n",
              "      <th>10</th>\n",
              "      <td>2019</td>\n",
              "      <td>3</td>\n",
              "      <td>55201939</td>\n",
              "      <td>10948633</td>\n",
              "      <td>17531173</td>\n",
              "      <td>10038381</td>\n",
              "      <td>4629662</td>\n",
              "      <td>1810804</td>\n",
              "      <td>3485828</td>\n",
              "      <td>6757458</td>\n",
              "      <td>2760096.95</td>\n",
              "      <td>547431.65</td>\n",
              "      <td>876558.65</td>\n",
              "      <td>501919.05</td>\n",
              "      <td>231483.10</td>\n",
              "    </tr>\n",
              "    <tr>\n",
              "      <th>11</th>\n",
              "      <td>2019</td>\n",
              "      <td>4</td>\n",
              "      <td>55683450</td>\n",
              "      <td>11060229</td>\n",
              "      <td>17578323</td>\n",
              "      <td>10056100</td>\n",
              "      <td>4972246</td>\n",
              "      <td>2010414</td>\n",
              "      <td>3358459</td>\n",
              "      <td>6647679</td>\n",
              "      <td>2784172.50</td>\n",
              "      <td>553011.45</td>\n",
              "      <td>878916.15</td>\n",
              "      <td>502805.00</td>\n",
              "      <td>248612.30</td>\n",
              "    </tr>\n",
              "    <tr>\n",
              "      <th>12</th>\n",
              "      <td>2020</td>\n",
              "      <td>1</td>\n",
              "      <td>55352304</td>\n",
              "      <td>12533197</td>\n",
              "      <td>19781852</td>\n",
              "      <td>8613773</td>\n",
              "      <td>3715640</td>\n",
              "      <td>1534613</td>\n",
              "      <td>2908620</td>\n",
              "      <td>6264609</td>\n",
              "      <td>2767615.20</td>\n",
              "      <td>626659.85</td>\n",
              "      <td>989092.60</td>\n",
              "      <td>430688.65</td>\n",
              "      <td>185782.00</td>\n",
              "    </tr>\n",
              "  </tbody>\n",
              "</table>\n",
              "</div>\n",
              "      <button class=\"colab-df-convert\" onclick=\"convertToInteractive('df-18f86aba-4adb-449a-81e5-6cc64f54db76')\"\n",
              "              title=\"Convert this dataframe to an interactive table.\"\n",
              "              style=\"display:none;\">\n",
              "\n",
              "  <svg xmlns=\"http://www.w3.org/2000/svg\" height=\"24px\"viewBox=\"0 0 24 24\"\n",
              "       width=\"24px\">\n",
              "    <path d=\"M0 0h24v24H0V0z\" fill=\"none\"/>\n",
              "    <path d=\"M18.56 5.44l.94 2.06.94-2.06 2.06-.94-2.06-.94-.94-2.06-.94 2.06-2.06.94zm-11 1L8.5 8.5l.94-2.06 2.06-.94-2.06-.94L8.5 2.5l-.94 2.06-2.06.94zm10 10l.94 2.06.94-2.06 2.06-.94-2.06-.94-.94-2.06-.94 2.06-2.06.94z\"/><path d=\"M17.41 7.96l-1.37-1.37c-.4-.4-.92-.59-1.43-.59-.52 0-1.04.2-1.43.59L10.3 9.45l-7.72 7.72c-.78.78-.78 2.05 0 2.83L4 21.41c.39.39.9.59 1.41.59.51 0 1.02-.2 1.41-.59l7.78-7.78 2.81-2.81c.8-.78.8-2.07 0-2.86zM5.41 20L4 18.59l7.72-7.72 1.47 1.35L5.41 20z\"/>\n",
              "  </svg>\n",
              "      </button>\n",
              "\n",
              "\n",
              "\n",
              "    <div id=\"df-be4a8990-0632-4598-8df5-9f1760a040dc\">\n",
              "      <button class=\"colab-df-quickchart\" onclick=\"quickchart('df-be4a8990-0632-4598-8df5-9f1760a040dc')\"\n",
              "              title=\"Suggest charts.\"\n",
              "              style=\"display:none;\">\n",
              "\n",
              "<svg xmlns=\"http://www.w3.org/2000/svg\" height=\"24px\"viewBox=\"0 0 24 24\"\n",
              "     width=\"24px\">\n",
              "    <g>\n",
              "        <path d=\"M19 3H5c-1.1 0-2 .9-2 2v14c0 1.1.9 2 2 2h14c1.1 0 2-.9 2-2V5c0-1.1-.9-2-2-2zM9 17H7v-7h2v7zm4 0h-2V7h2v10zm4 0h-2v-4h2v4z\"/>\n",
              "    </g>\n",
              "</svg>\n",
              "      </button>\n",
              "    </div>\n",
              "\n",
              "<style>\n",
              "  .colab-df-quickchart {\n",
              "    background-color: #E8F0FE;\n",
              "    border: none;\n",
              "    border-radius: 50%;\n",
              "    cursor: pointer;\n",
              "    display: none;\n",
              "    fill: #1967D2;\n",
              "    height: 32px;\n",
              "    padding: 0 0 0 0;\n",
              "    width: 32px;\n",
              "  }\n",
              "\n",
              "  .colab-df-quickchart:hover {\n",
              "    background-color: #E2EBFA;\n",
              "    box-shadow: 0px 1px 2px rgba(60, 64, 67, 0.3), 0px 1px 3px 1px rgba(60, 64, 67, 0.15);\n",
              "    fill: #174EA6;\n",
              "  }\n",
              "\n",
              "  [theme=dark] .colab-df-quickchart {\n",
              "    background-color: #3B4455;\n",
              "    fill: #D2E3FC;\n",
              "  }\n",
              "\n",
              "  [theme=dark] .colab-df-quickchart:hover {\n",
              "    background-color: #434B5C;\n",
              "    box-shadow: 0px 1px 3px 1px rgba(0, 0, 0, 0.15);\n",
              "    filter: drop-shadow(0px 1px 2px rgba(0, 0, 0, 0.3));\n",
              "    fill: #FFFFFF;\n",
              "  }\n",
              "</style>\n",
              "\n",
              "    <script>\n",
              "      async function quickchart(key) {\n",
              "        const containerElement = document.querySelector('#' + key);\n",
              "        const charts = await google.colab.kernel.invokeFunction(\n",
              "            'suggestCharts', [key], {});\n",
              "      }\n",
              "    </script>\n",
              "\n",
              "      <script>\n",
              "\n",
              "function displayQuickchartButton(domScope) {\n",
              "  let quickchartButtonEl =\n",
              "    domScope.querySelector('#df-be4a8990-0632-4598-8df5-9f1760a040dc button.colab-df-quickchart');\n",
              "  quickchartButtonEl.style.display =\n",
              "    google.colab.kernel.accessAllowed ? 'block' : 'none';\n",
              "}\n",
              "\n",
              "        displayQuickchartButton(document);\n",
              "      </script>\n",
              "      <style>\n",
              "    .colab-df-container {\n",
              "      display:flex;\n",
              "      flex-wrap:wrap;\n",
              "      gap: 12px;\n",
              "    }\n",
              "\n",
              "    .colab-df-convert {\n",
              "      background-color: #E8F0FE;\n",
              "      border: none;\n",
              "      border-radius: 50%;\n",
              "      cursor: pointer;\n",
              "      display: none;\n",
              "      fill: #1967D2;\n",
              "      height: 32px;\n",
              "      padding: 0 0 0 0;\n",
              "      width: 32px;\n",
              "    }\n",
              "\n",
              "    .colab-df-convert:hover {\n",
              "      background-color: #E2EBFA;\n",
              "      box-shadow: 0px 1px 2px rgba(60, 64, 67, 0.3), 0px 1px 3px 1px rgba(60, 64, 67, 0.15);\n",
              "      fill: #174EA6;\n",
              "    }\n",
              "\n",
              "    [theme=dark] .colab-df-convert {\n",
              "      background-color: #3B4455;\n",
              "      fill: #D2E3FC;\n",
              "    }\n",
              "\n",
              "    [theme=dark] .colab-df-convert:hover {\n",
              "      background-color: #434B5C;\n",
              "      box-shadow: 0px 1px 3px 1px rgba(0, 0, 0, 0.15);\n",
              "      filter: drop-shadow(0px 1px 2px rgba(0, 0, 0, 0.3));\n",
              "      fill: #FFFFFF;\n",
              "    }\n",
              "  </style>\n",
              "\n",
              "      <script>\n",
              "        const buttonEl =\n",
              "          document.querySelector('#df-18f86aba-4adb-449a-81e5-6cc64f54db76 button.colab-df-convert');\n",
              "        buttonEl.style.display =\n",
              "          google.colab.kernel.accessAllowed ? 'block' : 'none';\n",
              "\n",
              "        async function convertToInteractive(key) {\n",
              "          const element = document.querySelector('#df-18f86aba-4adb-449a-81e5-6cc64f54db76');\n",
              "          const dataTable =\n",
              "            await google.colab.kernel.invokeFunction('convertToInteractive',\n",
              "                                                     [key], {});\n",
              "          if (!dataTable) return;\n",
              "\n",
              "          const docLinkHtml = 'Like what you see? Visit the ' +\n",
              "            '<a target=\"_blank\" href=https://colab.research.google.com/notebooks/data_table.ipynb>data table notebook</a>'\n",
              "            + ' to learn more about interactive tables.';\n",
              "          element.innerHTML = '';\n",
              "          dataTable['output_type'] = 'display_data';\n",
              "          await google.colab.output.renderOutput(dataTable, element);\n",
              "          const docLink = document.createElement('div');\n",
              "          docLink.innerHTML = docLinkHtml;\n",
              "          element.appendChild(docLink);\n",
              "        }\n",
              "      </script>\n",
              "    </div>\n",
              "  </div>\n"
            ]
          },
          "metadata": {},
          "execution_count": 45
        }
      ]
    },
    {
      "cell_type": "code",
      "source": [
        "# @title Copia el token a en la repuesta de TEAMS\n",
        "import hashlib\n",
        "\n",
        "df_string = df.to_string()\n",
        "\n",
        "# Calcular el hash MD5\n",
        "md5_hash = hashlib.md5(df_string.encode()).hexdigest()\n",
        "\n",
        "print(\"Token del DataFrame:\")\n",
        "print(md5_hash)"
      ],
      "metadata": {
        "colab": {
          "base_uri": "https://localhost:8080/"
        },
        "id": "T0AoY65E65eS",
        "outputId": "4b31d5c2-7c9e-45b6-c0b5-4c165750f789"
      },
      "execution_count": 47,
      "outputs": [
        {
          "output_type": "stream",
          "name": "stdout",
          "text": [
            "Token del DataFrame:\n",
            "e32ee93b0acaa114ddece6e3caf00d1f\n"
          ]
        }
      ]
    }
  ]
}